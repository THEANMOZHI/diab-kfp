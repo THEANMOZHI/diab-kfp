{
 "cells": [
  {
   "cell_type": "code",
   "execution_count": 7,
   "id": "ab450a9e-696c-4878-be64-83da091aeec1",
   "metadata": {},
   "outputs": [],
   "source": [
    "from typing import NamedTuple\n",
    "import kfp\n",
    "from kfp import dsl\n",
    "from kfp.v2 import compiler\n",
    "from kfp.v2.dsl import (Artifact, Dataset, Input, InputPath, Model, Output,\n",
    "                        OutputPath, ClassificationMetrics, Metrics, component)\n",
    "from kfp.v2.google.client import AIPlatformClient\n",
    "from google.cloud import aiplatform\n",
    "from google_cloud_pipeline_components import aiplatform as gcc_aip\n",
    "from google.cloud import storage\n",
    "import os\n",
    "import pandas as pd\n",
    "import datetime\n",
    "from kfp.v2 import dsl, compiler\n",
    "from kfp.v2.google.client import AIPlatformClient\n",
    "import google_cloud_pipeline_components.aiplatform as gcc_ai\n",
    "from typing import NamedTuple\n",
    "import kfp\n",
    "from kfp import dsl\n",
    "import kfp.dsl as dsl\n",
    "from kfp.v2 import compiler\n",
    "from kfp.v2.dsl import (Artifact, Dataset, Input, InputPath, Model, Output,\n",
    "                        OutputPath, ClassificationMetrics, Metrics, component)\n",
    "from kfp.v2.google.client import AIPlatformClient\n",
    "from google.cloud import aiplatform\n",
    "from google_cloud_pipeline_components import aiplatform as gcc_aip\n",
    "from google.cloud import storage\n",
    "from io import StringIO\n",
    "import pandas as pd\n",
    "from google.cloud import storage\n",
    "import sklearn\n",
    "from sklearn.model_selection import train_test_split\n",
    "from sklearn.ensemble import RandomForestClassifier\n",
    "from sklearn.metrics import accuracy_score"
   ]
  },
  {
   "cell_type": "code",
   "execution_count": 1,
   "id": "0befae60-d7fb-43eb-9033-a603f870f05e",
   "metadata": {},
   "outputs": [],
   "source": [
    "USER_FLAG = \"--user\""
   ]
  },
  {
   "cell_type": "code",
   "execution_count": 2,
   "id": "7a3a26ab-560c-4bfa-9f4d-5d974bafd146",
   "metadata": {},
   "outputs": [
    {
     "name": "stdout",
     "output_type": "stream",
     "text": [
      "KFP SDK version: 1.8.10\n",
      "google_cloud_pipeline_components version: 0.1.1\n"
     ]
    }
   ],
   "source": [
    "!python3 -c \"import kfp; print('KFP SDK version: {}'.format(kfp.__version__))\"\n",
    "!python3 -c \"import google_cloud_pipeline_components; print('google_cloud_pipeline_components version: {}'.format(google_cloud_pipeline_components.__version__))\""
   ]
  },
  {
   "cell_type": "code",
   "execution_count": 3,
   "id": "d762f00e-7f85-4d73-acf5-ceb491f31ef4",
   "metadata": {},
   "outputs": [
    {
     "name": "stdout",
     "output_type": "stream",
     "text": [
      "Project ID:  kedro-kubeflow-334417\n"
     ]
    }
   ],
   "source": [
    "import os\n",
    "PROJECT_ID = \"\"\n",
    "# Get your Google Cloud project ID from gcloud\n",
    "if not os.getenv(\"IS_TESTING\"):\n",
    "    shell_output=!gcloud config list --format 'value(core.project)' 2>/dev/null\n",
    "    PROJECT_ID = shell_output[0]\n",
    "    print(\"Project ID: \", PROJECT_ID)"
   ]
  },
  {
   "cell_type": "code",
   "execution_count": 5,
   "id": "02383a73-30e1-4d85-9a28-40ee175bb630",
   "metadata": {},
   "outputs": [
    {
     "name": "stdout",
     "output_type": "stream",
     "text": [
      "env: PATH=/home/jupyter/.local/bin:/usr/local/cuda/bin:/opt/conda/bin:/opt/conda/condabin:/usr/local/bin:/usr/bin:/bin:/usr/local/games:/usr/games:/home/jupyter/.local/bin\n"
     ]
    },
    {
     "data": {
      "text/plain": [
       "'gs://diab-gsbucket/pipeline_root/'"
      ]
     },
     "execution_count": 5,
     "metadata": {},
     "output_type": "execute_result"
    }
   ],
   "source": [
    "BUCKET_NAME=\"gs://diab-gsbucket\"\n",
    "PATH=%env PATH\n",
    "%env PATH={PATH}:/home/jupyter/.local/bin\n",
    "REGION=\"us-central1\"\n",
    "PIPELINE_NAME = \"diabetes_pipeline\"\n",
    "PIPELINE_ROOT = f\"{BUCKET_NAME}/pipeline_root/\"\n",
    "PIPELINE_ROOT"
   ]
  },
  {
   "cell_type": "code",
   "execution_count": 8,
   "id": "281653ef-fb3d-4c1a-b36b-ad29d6b9117b",
   "metadata": {},
   "outputs": [],
   "source": [
    "@component(base_image=\"us-docker.pkg.dev/vertex-ai/training/tf-cpu.2-7:latest\",\n",
    "            output_component_file=\"test_train_data_split_component.yaml\")\n",
    "def data_component(bucket: str, path: str, data_file: str, value: float, marker: int) -> int:\n",
    "    import kfp\n",
    "    import pandas as pd\n",
    "    from kfp.v2.google.client import AIPlatformClient\n",
    "    data = pd.read_csv(f'gs://{bucket}/{path}/{data_file}.csv', sep=\",\")\n",
    "    train_data = data.drop('Outcome',axis=1)\n",
    "    test_data = data['Outcome']\n",
    "    \n",
    "    X_train, X_test, y_train, y_test = sklearn.model_selection.train_test_split(train_data, test_data, test_size = value, random_state=42)\n",
    "    \n",
    "    # upload train/test data innto cloud storage\n",
    "    client = storage.Client()\n",
    "    bucket = client.get_bucket(f'{bucket}')\n",
    "    \n",
    "    # 1. X_train\n",
    "    bucket.blob('data/X_train.csv').upload_from_string(X_train.to_csv(), 'text/csv')\n",
    "    xtrain = f\"gs://{bucket}/{path}/X_train.csv\"\n",
    "    # 2. X_test\n",
    "    bucket.blob('data/X_test.csv').upload_from_string(X_test.to_csv(), 'text/csv')\n",
    "    xtest = f\"gs://{bucket}/{path}/X_test.csv\"\n",
    "    # 3. y_train\n",
    "    bucket.blob('data/y_train.csv').upload_from_string(y_train.to_csv(), 'text/csv')\n",
    "    ytrain = f\"gs://{bucket}/{path}/y_train.csv\"\n",
    "    # 4. y_test\n",
    "    bucket.blob('data/y_test.csv').upload_from_string(y_test.to_csv(), 'text/csv')\n",
    "    ytest = f\"gs://{bucket}/{path}/y_test.csv\"\n",
    "    \n",
    "    marker = 1\n",
    "    return marker"
   ]
  },
  {
   "cell_type": "code",
   "execution_count": 9,
   "id": "7d1448cd-4cd6-4a17-a41c-2877629fbf9b",
   "metadata": {},
   "outputs": [],
   "source": [
    "@component(base_image=\"us-docker.pkg.dev/vertex-ai/training/tf-cpu.2-7:latest\",\n",
    "            output_component_file=\"model_component.yaml\")\n",
    "def model_component(bucket:str, path:str, xtrain:str, ytrain:str, xtest:str, ytest:str, marker: int) -> float:\n",
    "    import pandas as pd    \n",
    "    import sklearn\n",
    "    from sklearn.model_selection import train_test_split\n",
    "    from sklearn.ensemble import RandomForestClassifier\n",
    "    from sklearn.metrics import accuracy_score\n",
    "    with dsl.Condition(marker == 1):\n",
    "        # read X_train and y_train from cloud storage\n",
    "        X_train = pd.read_csv(f'gs://{bucket}/{path}/{xtrain}.csv', sep=\",\")\n",
    "        y_train = pd.read_csv(f'gs://{bucket}/{path}/{ytrain}.csv', sep=\",\")\n",
    "        # train model\n",
    "        rc = RandomForestClassifier(max_depth=2, random_state=0)\n",
    "        model = rc.fit(X_train, y_train)\n",
    "    \n",
    "        # read X_test and y_test from cloud storage\n",
    "        X_test = pd.read_csv(f'gs://{bucket}/{path}/{xtest}.csv', sep=\",\")\n",
    "        y_test = pd.read_csv(f'gs://{bucket}/{path}/{ytest}.csv', sep=\",\")\n",
    "        # validate model\n",
    "        y_pred = rc.predict(X_test)\n",
    "        accuracy = accuracy_score(y_test,y_pred)\n",
    "        \n",
    "    return accuracy"
   ]
  },
  {
   "cell_type": "code",
   "execution_count": 10,
   "id": "a6aae136-05d1-4d44-9b08-7383ea70431f",
   "metadata": {},
   "outputs": [],
   "source": [
    "@component(base_image=\"us-docker.pkg.dev/vertex-ai/training/tf-cpu.2-7:latest\",\n",
    "            output_component_file=\"true_decision_component.yaml\")\n",
    "def true_component(accuracy:float) -> None:\n",
    "    print(f'Yes!! {accuracy} is the Accuracy and its greater than the threshold')"
   ]
  },
  {
   "cell_type": "code",
   "execution_count": 11,
   "id": "e14f30d2-121c-4a44-8d7a-28d5d59658ac",
   "metadata": {},
   "outputs": [],
   "source": [
    "@component(base_image=\"us-docker.pkg.dev/vertex-ai/training/tf-cpu.2-7:latest\",\n",
    "            output_component_file=\"false_decision_component.yaml\")\n",
    "def false_component(accuracy:float) -> None:\n",
    "    print(f'No. {accuracy} is the Accuracy and its smaller than the threshold')"
   ]
  },
  {
   "cell_type": "code",
   "execution_count": 12,
   "id": "e311eb44-a130-4584-b98d-8847b426efb9",
   "metadata": {},
   "outputs": [],
   "source": [
    "@kfp.dsl.pipeline(name = \"diabetes-pipeline\",\n",
    "                  pipeline_root = PIPELINE_ROOT)\n",
    "def diab_pipeline(\n",
    "    display_name: str=f\"{PIPELINE_NAME}-2021MMDD-nn\",\n",
    "    project: str = PROJECT_ID,\n",
    "    gcp_region: str = \"us-central1\",\n",
    "    api_endpoint: str = \"us-central1-aiplatform.googleapis.com\",\n",
    "    marker: int = 0,\n",
    "    test_train_split_ratio: float = 0.3,\n",
    "    accuracy_threshold: float = 0.5\n",
    ") -> None:\n",
    "        \n",
    "    # initiating data component\n",
    "    data_op = data_component(BUCKET_NAME, \"data\", \"diabetes\", test_train_split_ratio, marker)\n",
    "    # initiating model component\n",
    "    model_op = model_component(BUCKET_NAME, \"data\", \"X_train\", \"y_train\", \"X_test\", \"y_test\", data_op.output)\n",
    "    \n",
    "    with dsl.Condition(model_op.output >= accuracy_threshold, name=\"accuracy>=50\"):\n",
    "        true_component(model_op.output)\n",
    "    with dsl.Condition(model_op.output < accuracy_threshold, name=\"accuracy<50\"):\n",
    "        false_component(model_op.output)\n",
    "    '''\n",
    "    # decision node\n",
    "    with kfp.dsl.Condition(acc_metric.output >= accuracy_threshold, name=\"accuracy check\"):\n",
    "        print(f\"{acc_metric} is accuracy and is greater than its threshold\")\n",
    "    '''\n",
    "    "
   ]
  },
  {
   "cell_type": "code",
   "execution_count": 13,
   "id": "ede830c6-29eb-4688-8163-d7bf9063938d",
   "metadata": {},
   "outputs": [
    {
     "name": "stderr",
     "output_type": "stream",
     "text": [
      "/home/jupyter/.local/lib/python3.7/site-packages/kfp/v2/compiler/compiler.py:1266: FutureWarning: APIs imported from the v1 namespace (e.g. kfp.dsl, kfp.components, etc) will not be supported by the v2 compiler since v2.0.0\n",
      "  category=FutureWarning,\n"
     ]
    }
   ],
   "source": [
    "compiler.Compiler().compile(\n",
    "    pipeline_func=diab_pipeline, package_path=\"diab_pipeline.json\"\n",
    ")"
   ]
  },
  {
   "cell_type": "code",
   "execution_count": 14,
   "id": "e20c046f-587e-4d4d-b2b5-1df68b7658ed",
   "metadata": {},
   "outputs": [
    {
     "name": "stderr",
     "output_type": "stream",
     "text": [
      "/home/jupyter/.local/lib/python3.7/site-packages/kfp/v2/google/client/client.py:173: FutureWarning: AIPlatformClient will be deprecated in v2.0.0. Please use PipelineJob https://googleapis.dev/python/aiplatform/latest/_modules/google/cloud/aiplatform/pipeline_jobs.html in Vertex SDK. Install the SDK using \"pip install google-cloud-aiplatform\"\n",
      "  category=FutureWarning,\n"
     ]
    }
   ],
   "source": [
    "api_client = AIPlatformClient(\n",
    "    project_id=PROJECT_ID,\n",
    "    region=REGION,\n",
    ")"
   ]
  },
  {
   "cell_type": "code",
   "execution_count": 15,
   "id": "074b999d-3023-4e3e-9046-299391c58e04",
   "metadata": {},
   "outputs": [
    {
     "data": {
      "text/html": [
       "See the Pipeline job <a href=\"https://console.cloud.google.com/vertex-ai/locations/us-central1/pipelines/runs/diabetes-pipeline-20220107121010?project=kedro-kubeflow-334417\" target=\"_blank\" >here</a>."
      ],
      "text/plain": [
       "<IPython.core.display.HTML object>"
      ]
     },
     "metadata": {},
     "output_type": "display_data"
    }
   ],
   "source": [
    "response = api_client.create_run_from_job_spec(\n",
    "    \"diab_pipeline.json\", pipeline_root=PIPELINE_ROOT,\n",
    ")"
   ]
  },
  {
   "cell_type": "code",
   "execution_count": null,
   "id": "c254c55c-5eea-4908-959e-8e076e07a856",
   "metadata": {},
   "outputs": [],
   "source": []
  }
 ],
 "metadata": {
  "environment": {
   "kernel": "python3",
   "name": "tf2-gpu.2-7.m87",
   "type": "gcloud",
   "uri": "gcr.io/deeplearning-platform-release/tf2-gpu.2-7:m87"
  },
  "kernelspec": {
   "display_name": "Python 3",
   "language": "python",
   "name": "python3"
  },
  "language_info": {
   "codemirror_mode": {
    "name": "ipython",
    "version": 3
   },
   "file_extension": ".py",
   "mimetype": "text/x-python",
   "name": "python",
   "nbconvert_exporter": "python",
   "pygments_lexer": "ipython3",
   "version": "3.7.12"
  }
 },
 "nbformat": 4,
 "nbformat_minor": 5
}
